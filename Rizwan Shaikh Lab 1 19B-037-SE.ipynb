{
 "cells": [
  {
   "cell_type": "code",
   "execution_count": 1,
   "metadata": {
    "scrolled": true
   },
   "outputs": [
    {
     "name": "stdout",
     "output_type": "stream",
     "text": [
      "Enter the Temperature in Celcius : 12\n",
      "The Temperature in Farenheit is :  53.6\n"
     ]
    }
   ],
   "source": [
    "celcius = int(input(\"Enter the Temperature in Celcius : \"))\n",
    "f = ((celcius*1.8)+32)\n",
    "print(\"The Temperature in Farenheit is : \",f)"
   ]
  },
  {
   "cell_type": "code",
   "execution_count": 2,
   "metadata": {},
   "outputs": [
    {
     "name": "stdout",
     "output_type": "stream",
     "text": [
      "Enter the Temperature in Farenheit : 32\n",
      "The Temperature in Celcius is :  0.0\n"
     ]
    }
   ],
   "source": [
    "farenheit = int(input(\"Enter the Temperature in Farenheit : \"))\n",
    "c = ((farenheit-32)/1.8)\n",
    "print(\"The Temperature in Celcius is : \",c)"
   ]
  },
  {
   "cell_type": "code",
   "execution_count": 3,
   "metadata": {},
   "outputs": [
    {
     "name": "stdout",
     "output_type": "stream",
     "text": [
      "Enter the width of the rectange : 12\n",
      "Enter the height of the rectangle : 13\n",
      "The area of Rectangle is :  156\n"
     ]
    }
   ],
   "source": [
    "width = int(input(\"Enter the width of the rectange : \"))\n",
    "height = int(input(\"Enter the height of the rectangle : \"))\n",
    "area = width*height\n",
    "print(\"The area of Rectangle is : \", area)"
   ]
  },
  {
   "cell_type": "code",
   "execution_count": 4,
   "metadata": {},
   "outputs": [
    {
     "name": "stdout",
     "output_type": "stream",
     "text": [
      "Enter the volume of Sphere : 122\n",
      "The surface area of a sphere is :  62345.95340804064\n"
     ]
    }
   ],
   "source": [
    "from math import pi\n",
    "radius = float(input(\"Enter the volume of Sphere : \"))\n",
    "volume = (4/3)*pi*radius**2\n",
    "print(\"The surface area of a sphere is : \", volume)"
   ]
  },
  {
   "cell_type": "code",
   "execution_count": 5,
   "metadata": {},
   "outputs": [
    {
     "name": "stdout",
     "output_type": "stream",
     "text": [
      "Enter your Name : rizwan SHAIKH\n",
      "RIZWAN SHAIKH\n"
     ]
    }
   ],
   "source": [
    "name = input(\"Enter your Name : \")\n",
    "print(name.upper())"
   ]
  },
  {
   "cell_type": "code",
   "execution_count": 6,
   "metadata": {},
   "outputs": [
    {
     "name": "stdout",
     "output_type": "stream",
     "text": [
      "Enter your Name : rizwan SHAIKH\n",
      "rizwan shaikh\n"
     ]
    }
   ],
   "source": [
    "name = input(\"Enter your Name : \")\n",
    "print(name.lower())"
   ]
  },
  {
   "cell_type": "code",
   "execution_count": 7,
   "metadata": {},
   "outputs": [
    {
     "name": "stdout",
     "output_type": "stream",
     "text": [
      "Enter your Name : rizwan SHAIKH\n",
      "Rizwan Shaikh\n"
     ]
    }
   ],
   "source": [
    "name = input(\"Enter your Name : \")\n",
    "print(name.title())"
   ]
  }
 ],
 "metadata": {
  "kernelspec": {
   "display_name": "Python 3",
   "language": "python",
   "name": "python3"
  },
  "language_info": {
   "codemirror_mode": {
    "name": "ipython",
    "version": 3
   },
   "file_extension": ".py",
   "mimetype": "text/x-python",
   "name": "python",
   "nbconvert_exporter": "python",
   "pygments_lexer": "ipython3",
   "version": "3.7.3"
  }
 },
 "nbformat": 4,
 "nbformat_minor": 2
}
